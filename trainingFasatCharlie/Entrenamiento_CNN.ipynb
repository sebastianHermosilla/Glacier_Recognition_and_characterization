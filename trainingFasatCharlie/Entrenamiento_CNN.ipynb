{
  "nbformat": 4,
  "nbformat_minor": 0,
  "metadata": {
    "colab": {
      "provenance": [],
      "gpuType": "T4"
    },
    "kernelspec": {
      "name": "python3",
      "display_name": "Python 3"
    },
    "language_info": {
      "name": "python"
    },
    "accelerator": "GPU"
  },
  "cells": [
    {
      "cell_type": "code",
      "execution_count": 1,
      "metadata": {
        "id": "grCiU0Uyo_I0"
      },
      "outputs": [],
      "source": [
        "import xarray as xr\n",
        "import pandas as pd\n",
        "import numpy as np\n",
        "import matplotlib.pyplot as plt\n",
        "import time\n",
        "\n",
        "#Machine Learning\n",
        "import torch\n",
        "import torch.nn as nn\n",
        "import torch.optim as optim\n",
        "from sklearn.model_selection import train_test_split\n",
        "import torch\n",
        "from torch.utils.data import Dataset, DataLoader\n",
        "\n",
        "import torch\n",
        "from torch import nn\n",
        "import torchvision\n",
        "import itertools\n",
        "from tqdm import tqdm\n",
        "\n",
        "from sklearn.metrics import confusion_matrix\n",
        "from sklearn.metrics import recall_score\n",
        "from sklearn.metrics import precision_score\n",
        "from sklearn.metrics import accuracy_score\n",
        "from sklearn.metrics import f1_score\n",
        "\n",
        "from scipy.stats import mode"
      ]
    },
    {
      "cell_type": "code",
      "source": [
        "# Importar datos LANDSAT\n",
        "from google.colab import drive\n",
        "drive.mount('/content/drive')"
      ],
      "metadata": {
        "id": "eXGhA77jzQti",
        "colab": {
          "base_uri": "https://localhost:8080/"
        },
        "outputId": "c5be5c79-0824-4e1f-8727-ad82351a4181"
      },
      "execution_count": 2,
      "outputs": [
        {
          "output_type": "stream",
          "name": "stdout",
          "text": [
            "Drive already mounted at /content/drive; to attempt to forcibly remount, call drive.mount(\"/content/drive\", force_remount=True).\n"
          ]
        }
      ]
    },
    {
      "cell_type": "code",
      "source": [
        "def concat_data(band_list):\n",
        "\n",
        "    list_df = []\n",
        "\n",
        "    #Recorremos bandas para agregar en df\n",
        "    for band in band_list:\n",
        "        for i in [8]:\n",
        "            path = f'/content/drive/MyDrive/Cursos/Glaciares/{band}_LANDSAT{i}.nc'\n",
        "            df = xr.open_dataset(path).to_dataframe()\n",
        "\n",
        "            #Eliminamos columna\n",
        "            df = df.drop(columns = ['spatial_ref'])\n",
        "\n",
        "            if band == 'BOOL':\n",
        "                df = df.rename(columns={\"red\": \"bool\"})\n",
        "\n",
        "            list_df.append(df)\n",
        "\n",
        "    #Concatenamos dfs\n",
        "    return pd.concat(list_df, axis=1)"
      ],
      "metadata": {
        "id": "TVE5YJtWpXuE"
      },
      "execution_count": 3,
      "outputs": []
    },
    {
      "cell_type": "code",
      "source": [
        "def crear_razones(green, NIR):\n",
        "    return (green - NIR)/(green + NIR)"
      ],
      "metadata": {
        "id": "jlotaHr1-LCW"
      },
      "execution_count": 4,
      "outputs": []
    },
    {
      "cell_type": "code",
      "source": [
        "def get_images(data):\n",
        "\n",
        "    imagenes_rect = []\n",
        "    labels = []\n",
        "    imagenes = data.index.get_level_values('time').unique()\n",
        "\n",
        "    #Calculamos dimensiones de las imagenes\n",
        "    ancho = len(data.index.get_level_values('x').unique())\n",
        "    largo = len(data.index.get_level_values('y').unique())\n",
        "\n",
        "    #Recorremos imagenes\n",
        "    for img_name in imagenes:\n",
        "\n",
        "        #Filtramos imagen\n",
        "        filtered_data = data.loc[img_name]\n",
        "\n",
        "        #Generamos imagen\n",
        "        x = filtered_data.index.get_level_values('x')\n",
        "        y = filtered_data.index.get_level_values('y')\n",
        "        blue = filtered_data['blue'].values\n",
        "        red = filtered_data['red'].values\n",
        "        green = filtered_data['green'].values\n",
        "        nir = filtered_data['nir08'].values\n",
        "        glaciar = filtered_data['bool'].values\n",
        "\n",
        "        #Calculamos razones\n",
        "        NDWI = crear_razones(green, nir)\n",
        "\n",
        "        img = np.column_stack((blue, red, green, nir, NDWI))\n",
        "\n",
        "        #Redimensionamos la imagen\n",
        "        img = img.reshape((5, largo, ancho))\n",
        "        glaciar = glaciar.reshape(largo, ancho)\n",
        "\n",
        "        #if resize_factor != 1:\n",
        "        #    img = img[:, ::resize_factor, ::resize_factor]\n",
        "\n",
        "        imagenes_rect.append(img)\n",
        "        labels.append(glaciar)\n",
        "\n",
        "    return np.array(imagenes_rect), np.array(labels)"
      ],
      "metadata": {
        "id": "2bUriO2GzF_H"
      },
      "execution_count": 5,
      "outputs": []
    },
    {
      "cell_type": "code",
      "source": [
        "def split_images(array, nrows, ncols):\n",
        "    \"\"\"Split a matrix into sub-matrices.\"\"\"\n",
        "    partes = np.split(array, nrows, axis=2)\n",
        "    partes = [np.split(part, ncols, axis=3) for part in partes]\n",
        "\n",
        "    #Unimos las imagenes en un solo array\n",
        "    imagenes = np.concatenate([np.concatenate(part, axis=0) for part in partes])\n",
        "\n",
        "    return imagenes"
      ],
      "metadata": {
        "id": "HtzwR5iEF84s"
      },
      "execution_count": 6,
      "outputs": []
    },
    {
      "cell_type": "code",
      "source": [
        "def split_labels(array, nrows, ncols):\n",
        "    \"\"\"Split a matrix into sub-matrices.\"\"\"\n",
        "    partes = np.split(array, nrows, axis=1)\n",
        "    partes = [np.split(part, ncols, axis=2) for part in partes]\n",
        "\n",
        "    #Unimos las imagenes en un solo array\n",
        "    labels = np.concatenate([np.concatenate(part, axis=0) for part in partes])\n",
        "\n",
        "    return labels"
      ],
      "metadata": {
        "id": "Vs6wrf7TO5SL"
      },
      "execution_count": 7,
      "outputs": []
    },
    {
      "cell_type": "code",
      "source": [
        "def resize_images(images, new_height, new_width):\n",
        "    num_images, num_channels, old_height, old_width = images.shape\n",
        "\n",
        "    # Crear un nuevo array para almacenar las imágenes redimensionadas con ceros agregados\n",
        "    resized_images = np.zeros((num_images, num_channels, new_height, new_width), dtype=images.dtype)\n",
        "\n",
        "    # Calcular el desplazamiento necesario para centrar las imágenes en la nueva forma\n",
        "    vertical_offset = (new_height - old_height) // 2\n",
        "    horizontal_offset = (new_width - old_width) // 2\n",
        "\n",
        "    # Copiar las imágenes originales en la posición correcta del array redimensionado\n",
        "    resized_images[:, :, vertical_offset:vertical_offset+old_height, horizontal_offset:horizontal_offset+old_width] = images\n",
        "\n",
        "    return resized_images"
      ],
      "metadata": {
        "id": "zlms1v9qjyqz"
      },
      "execution_count": 8,
      "outputs": []
    },
    {
      "cell_type": "code",
      "source": [
        "def resize_labels(labels, new_height, new_width):\n",
        "    num_labels, old_height, old_width = labels.shape\n",
        "\n",
        "    # Crear un nuevo array para almacenar las imágenes redimensionadas con ceros agregados\n",
        "    resized_images = np.zeros((num_labels, new_height, new_width), dtype=labels.dtype)\n",
        "\n",
        "    # Calcular el desplazamiento necesario para centrar las imágenes en la nueva forma\n",
        "    vertical_offset = (new_height - old_height) // 2\n",
        "    horizontal_offset = (new_width - old_width) // 2\n",
        "\n",
        "    # Copiar las imágenes originales en la posición correcta del array redimensionado\n",
        "    resized_images[:, vertical_offset:vertical_offset+old_height, horizontal_offset:horizontal_offset+old_width] = labels\n",
        "\n",
        "    return resized_images"
      ],
      "metadata": {
        "id": "jg1tvSpFk-Al"
      },
      "execution_count": 9,
      "outputs": []
    },
    {
      "cell_type": "code",
      "source": [
        "def most_common(array):\n",
        "    reshaped_array = array.reshape(-1, 6 * 4)\n",
        "    most_common_values = mode(reshaped_array, axis=1)\n",
        "    return most_common_values.mode.squeeze()"
      ],
      "metadata": {
        "id": "GSVzJMdnmGpH"
      },
      "execution_count": 10,
      "outputs": []
    },
    {
      "cell_type": "code",
      "source": [
        "def generate_dataset(X, y):\n",
        "\n",
        "    #Separamos en entrenamiento, validación y test\n",
        "    X_train, X_val_test, y_train, y_val_test = train_test_split(X, y, test_size=0.3, random_state=72)\n",
        "    X_val, X_test, y_val, y_test = train_test_split(X_val_test, y_val_test, test_size=0.5, random_state=72)\n",
        "\n",
        "    #Obtenemos tensores de la data\n",
        "    X_train = torch.tensor(X_train)\n",
        "    X_test = torch.tensor(X_test)\n",
        "    X_val = torch.tensor(X_val)\n",
        "\n",
        "    y_train = torch.tensor(y_train)\n",
        "    y_test = torch.tensor(y_test)\n",
        "    y_val = torch.tensor(y_val)\n",
        "\n",
        "    # Crear dataset de pytorch\n",
        "    train_dataset = torch.utils.data.TensorDataset(X_train, y_train)\n",
        "    val_dataset = torch.utils.data.TensorDataset(X_val, y_val)\n",
        "    test_dataset = torch.utils.data.TensorDataset(X_test, y_test)\n",
        "\n",
        "    return train_dataset, val_dataset, test_dataset"
      ],
      "metadata": {
        "id": "CAziKrsBuobE"
      },
      "execution_count": 11,
      "outputs": []
    },
    {
      "cell_type": "code",
      "source": [
        "bands = ['BLUE', 'RED', 'GREEN', 'NIR', 'BOOL']\n",
        "\n",
        "data = concat_data(bands)\n",
        "\n",
        "imagenes, labels = get_images(data)\n",
        "\n",
        "#Agregandamos imagenes\n",
        "imagenes = resize_images(imagenes, 864, 576)\n",
        "labels = resize_labels(labels, 864, 576)\n",
        "\n",
        "imagenes_recortadas = split_images(imagenes, 144, 144)\n",
        "labels_recortados = split_labels(labels, 144, 144)\n",
        "\n",
        "labels = most_common(labels_recortados)\n",
        "\n",
        "print('Dimensiones imagenes:', imagenes_recortadas.shape)\n",
        "print('Dimensiones labels:', labels.shape)\n",
        "\n",
        "train_ds, val_ds, test_ds = generate_dataset(imagenes_recortadas, labels)"
      ],
      "metadata": {
        "id": "be83QMUk2Eis",
        "colab": {
          "base_uri": "https://localhost:8080/"
        },
        "outputId": "609653ec-b77c-48cf-a15d-b61e771335ae"
      },
      "execution_count": 12,
      "outputs": [
        {
          "output_type": "stream",
          "name": "stdout",
          "text": [
            "Dimensiones imagenes: (1347840, 5, 6, 4)\n",
            "Dimensiones labels: (1347840,)\n"
          ]
        }
      ]
    },
    {
      "cell_type": "markdown",
      "source": [
        "# Generación red neuronal"
      ],
      "metadata": {
        "id": "jq7iNNkk337G"
      }
    },
    {
      "cell_type": "code",
      "source": [
        "class CNNModel(nn.Module):\n",
        "    def __init__(\n",
        "        self,\n",
        "        dim_1_img,\n",
        "        dim_2_img,\n",
        "        input_features=5\n",
        "    ):\n",
        "        super().__init__()\n",
        "\n",
        "        self.conv_blocks = nn.Sequential(\n",
        "            # Bloque 1\n",
        "            nn.Conv2d(input_features, 16, kernel_size=7, padding=\"same\"),\n",
        "            nn.ReLU(),\n",
        "\n",
        "            # Bloque 2\n",
        "            nn.Conv2d(16, 32, kernel_size=7, padding=\"same\"),\n",
        "            nn.ReLU(),\n",
        "\n",
        "            # Bloque 3\n",
        "            nn.Conv2d(32, 64, kernel_size=7, padding=\"same\"),\n",
        "            nn.ReLU(),\n",
        "\n",
        "            # Bloque 4\n",
        "            nn.Conv2d(64, 128, kernel_size=7, padding=\"same\"),\n",
        "            nn.ReLU(),\n",
        "\n",
        "        )\n",
        "\n",
        "        self.mlp = nn.Sequential(\n",
        "            nn.Flatten(),\n",
        "            nn.Linear(dim_1_img*dim_2_img*128, 3),\n",
        "        )\n",
        "\n",
        "        self.net = nn.Sequential(\n",
        "            self.conv_blocks,\n",
        "            self.mlp,\n",
        "        )\n",
        "\n",
        "    def forward(self, x):\n",
        "        return self.net(x)"
      ],
      "metadata": {
        "id": "qXttlXQh36V-"
      },
      "execution_count": 13,
      "outputs": []
    },
    {
      "cell_type": "code",
      "source": [
        "def show_curves(curves):\n",
        "    fig, ax = plt.subplots(1, 2, figsize=(13, 5))\n",
        "    fig.set_facecolor('white')\n",
        "\n",
        "    epochs = np.arange(len(curves[\"val_loss\"])) + 1\n",
        "\n",
        "    ax[0].plot(epochs, curves['val_loss'], label='validation')\n",
        "    ax[0].plot(epochs, curves['train_loss'], label='training')\n",
        "    ax[0].set_xlabel('Epoch')\n",
        "    ax[0].set_ylabel('Loss')\n",
        "    ax[0].set_title('Loss evolution during training')\n",
        "    ax[0].legend()\n",
        "\n",
        "    ax[1].plot(epochs, curves['val_acc'], label='validation')\n",
        "    ax[1].plot(epochs, curves['train_acc'], label='training')\n",
        "    ax[1].set_xlabel('Epoch')\n",
        "    ax[1].set_ylabel('Accuracy')\n",
        "    ax[1].set_title('Accuracy evolution during training')\n",
        "    ax[1].legend()\n",
        "\n",
        "    plt.show()"
      ],
      "metadata": {
        "id": "3wKik_W3oh_A"
      },
      "execution_count": 14,
      "outputs": []
    },
    {
      "cell_type": "code",
      "source": [
        "def train_step(x_batch, y_batch, model, optimizer, criterion, use_gpu):\n",
        "\n",
        "    # Predicción\n",
        "    y_predicted = model(x_batch)\n",
        "\n",
        "    y_batch = y_batch.long()\n",
        "\n",
        "    # Cálculo de loss\n",
        "    loss = criterion(y_predicted, y_batch)\n",
        "\n",
        "    # Actualización de parámetros\n",
        "    optimizer.zero_grad()\n",
        "    loss.backward()\n",
        "    optimizer.step()\n",
        "\n",
        "    return y_predicted, loss\n",
        "\n",
        "\n",
        "def evaluate(val_loader, model, criterion, use_gpu):\n",
        "    cumulative_loss = 0\n",
        "    cumulative_predictions = 0\n",
        "    data_count = 0\n",
        "\n",
        "    for x_val, y_val in val_loader:\n",
        "        if use_gpu:\n",
        "            x_val = x_val.cuda()\n",
        "            y_val = y_val.cuda()\n",
        "\n",
        "        y_predicted = model(x_val)\n",
        "\n",
        "        y_val = y_val.long()\n",
        "\n",
        "        loss = criterion(y_predicted, y_val)\n",
        "\n",
        "        class_prediction = torch.argmax(y_predicted, axis=1).long()\n",
        "\n",
        "        cumulative_predictions += (y_val == class_prediction).sum().item()\n",
        "        cumulative_loss += loss.item()\n",
        "        data_count += y_val.shape[0]\n",
        "\n",
        "    val_acc = cumulative_predictions / data_count\n",
        "    val_loss = cumulative_loss / len(val_loader)\n",
        "\n",
        "    return val_acc, val_loss\n",
        "\n",
        "\n",
        "def train_model(\n",
        "    model,\n",
        "    train_dataset,\n",
        "    val_dataset,\n",
        "    epochs,\n",
        "    criterion,\n",
        "    batch_size,\n",
        "    lr,\n",
        "    n_evaluations_per_epoch=6,\n",
        "    use_gpu=False,\n",
        "    data_augmentation=False,\n",
        "):\n",
        "\n",
        "    if use_gpu:\n",
        "        model.cuda()\n",
        "\n",
        "    # Definición de dataloader\n",
        "    train_loader = torch.utils.data.DataLoader(train_dataset, batch_size=batch_size, shuffle=True, num_workers=2, pin_memory=use_gpu)\n",
        "    val_loader = torch.utils.data.DataLoader(val_dataset, batch_size=len(val_dataset), shuffle=False, pin_memory=use_gpu)\n",
        "\n",
        "    # Optimizador\n",
        "    optimizer = torch.optim.Adam(model.parameters(), lr=lr)\n",
        "\n",
        "    # Listas para guardar curvas de entrenamiento\n",
        "    curves = {\n",
        "        \"train_acc\": [],\n",
        "        \"val_acc\": [],\n",
        "        \"train_loss\": [],\n",
        "        \"val_loss\": [],\n",
        "    }\n",
        "\n",
        "    t0 = time.perf_counter()\n",
        "\n",
        "    iteration = 0\n",
        "\n",
        "    n_batches = len(train_loader)\n",
        "\n",
        "    for epoch in range(epochs):\n",
        "        progress_bar = tqdm(train_loader, desc=f'Epoch {epoch+1}', leave=False)\n",
        "        cumulative_train_loss = 0\n",
        "        cumulative_train_corrects = 0\n",
        "        train_loss_count = 0\n",
        "        train_acc_count = 0\n",
        "\n",
        "        # Entrenamiento del modelo\n",
        "        model.train()\n",
        "        for i, (x_batch, y_batch) in enumerate(train_loader):\n",
        "            if use_gpu:\n",
        "                x_batch = x_batch.cuda()\n",
        "                y_batch = y_batch.cuda()\n",
        "\n",
        "            y_predicted, loss = train_step(x_batch, y_batch, model, optimizer, criterion, use_gpu)\n",
        "\n",
        "            cumulative_train_loss += loss.item()\n",
        "            train_loss_count += 1\n",
        "            train_acc_count += y_batch.shape[0]\n",
        "\n",
        "            # Calculamos número de aciertos\n",
        "            class_prediction = torch.argmax(y_predicted, axis=1).long()\n",
        "            cumulative_train_corrects += (y_batch == class_prediction).sum().item()\n",
        "\n",
        "            if (i % (n_batches // n_evaluations_per_epoch) == 0) and (i > 0):\n",
        "                train_loss = cumulative_train_loss / train_loss_count\n",
        "                train_acc = cumulative_train_corrects / train_acc_count\n",
        "\n",
        "                print(f\"Iteration {iteration} - Batch {i}/{len(train_loader)} - Train loss: {train_loss}, Train acc: {train_acc}\")\n",
        "\n",
        "            iteration += 1\n",
        "\n",
        "        model.eval()\n",
        "        with torch.no_grad():\n",
        "            val_acc, val_loss = evaluate(val_loader, model, criterion, use_gpu)\n",
        "\n",
        "        print(f\"Val loss: {val_loss}, Val acc: {val_acc}\")\n",
        "\n",
        "        train_loss = cumulative_train_loss / train_loss_count\n",
        "        train_acc = cumulative_train_corrects / train_acc_count\n",
        "\n",
        "        curves[\"train_acc\"].append(train_acc)\n",
        "        curves[\"val_acc\"].append(val_acc)\n",
        "        curves[\"train_loss\"].append(train_loss)\n",
        "        curves[\"val_loss\"].append(val_loss)\n",
        "\n",
        "    print()\n",
        "    print(f\"Tiempo total de entrenamiento: {time.perf_counter() - t0:.4f} [s]\")\n",
        "\n",
        "    model.cpu()\n",
        "\n",
        "    return curves"
      ],
      "metadata": {
        "id": "nfRzwtino2I-"
      },
      "execution_count": 15,
      "outputs": []
    },
    {
      "cell_type": "markdown",
      "source": [
        "# Entrenamiento"
      ],
      "metadata": {
        "id": "YgVUsf5_qwQe"
      }
    },
    {
      "cell_type": "code",
      "source": [
        "model = CNNModel(6, 4)\n",
        "\n",
        "epochs = 10\n",
        "lr = 5e-4\n",
        "batch_size = 64\n",
        "criterion = nn.CrossEntropyLoss()"
      ],
      "metadata": {
        "id": "48NQWrrQqxeH"
      },
      "execution_count": 20,
      "outputs": []
    },
    {
      "cell_type": "code",
      "source": [
        "curves = train_model(\n",
        "    model,\n",
        "    train_ds,\n",
        "    val_ds,\n",
        "    epochs,\n",
        "    criterion,\n",
        "    batch_size,\n",
        "    lr,\n",
        "    use_gpu=True,\n",
        "    data_augmentation=False,\n",
        ")\n",
        "\n",
        "show_curves(curves)"
      ],
      "metadata": {
        "id": "DKUfiKsHsIk4",
        "colab": {
          "base_uri": "https://localhost:8080/",
          "height": 1000
        },
        "outputId": "96bde225-a646-46c9-a4f5-c362ee401785"
      },
      "execution_count": 21,
      "outputs": [
        {
          "output_type": "stream",
          "name": "stderr",
          "text": [
            "\n",
            "Epoch 1:   0%|          | 0/14742 [00:00<?, ?it/s]\u001b[A"
          ]
        },
        {
          "output_type": "stream",
          "name": "stdout",
          "text": [
            "Iteration 2457 - Batch 2457/14742 - Train loss: 0.9214819516468281, Train acc: 0.5494304312449145\n",
            "Iteration 4914 - Batch 4914/14742 - Train loss: 0.8879926855784831, Train acc: 0.571528484231943\n",
            "Iteration 7371 - Batch 7371/14742 - Train loss: 0.8696815193071356, Train acc: 0.5830825250949538\n",
            "Iteration 9828 - Batch 9828/14742 - Train loss: 0.8573963109383761, Train acc: 0.5914386000610439\n",
            "Iteration 12285 - Batch 12285/14742 - Train loss: 0.8478867998781798, Train acc: 0.5976200044766401\n",
            "Val loss: 0.7963789105415344, Val acc: 0.6294070512820513\n"
          ]
        },
        {
          "output_type": "stream",
          "name": "stderr",
          "text": [
            "\n",
            "\n",
            "Epoch 2:   0%|          | 0/14742 [00:00<?, ?it/s]\u001b[A\u001b[A\n",
            "                                                  \u001b[A"
          ]
        },
        {
          "output_type": "stream",
          "name": "stdout",
          "text": [
            "Iteration 17199 - Batch 2457/14742 - Train loss: 0.792702620110927, Train acc: 0.6319416192026037\n",
            "Iteration 19656 - Batch 4914/14742 - Train loss: 0.7885635568554743, Train acc: 0.6338790691759919\n",
            "Iteration 22113 - Batch 7371/14742 - Train loss: 0.786335974462771, Train acc: 0.6350803716766142\n",
            "Iteration 24570 - Batch 9828/14742 - Train loss: 0.7847290506609362, Train acc: 0.6363233162071421\n",
            "Iteration 27027 - Batch 12285/14742 - Train loss: 0.7826660026435489, Train acc: 0.6373552722611102\n",
            "Val loss: 0.7673003673553467, Val acc: 0.6466791310541311\n"
          ]
        },
        {
          "output_type": "stream",
          "name": "stderr",
          "text": [
            "\n",
            "Epoch 3:   0%|          | 0/14742 [00:00<?, ?it/s]\u001b[A\n",
            "\n",
            "                                                  \u001b[A\u001b[A"
          ]
        },
        {
          "output_type": "stream",
          "name": "stdout",
          "text": [
            "Iteration 31941 - Batch 2457/14742 - Train loss: 0.7586312115289411, Train acc: 0.6514251932465419\n",
            "Iteration 34398 - Batch 4914/14742 - Train loss: 0.7566203895808479, Train acc: 0.6520027975584944\n",
            "Iteration 36855 - Batch 7371/14742 - Train loss: 0.7555623665104336, Train acc: 0.6527506951980466\n",
            "Iteration 39312 - Batch 9828/14742 - Train loss: 0.755012884958919, Train acc: 0.6529832002238275\n",
            "Iteration 41769 - Batch 12285/14742 - Train loss: 0.753968558816205, Train acc: 0.6534533717239134\n",
            "Val loss: 0.7528237104415894, Val acc: 0.6552805476416588\n"
          ]
        },
        {
          "output_type": "stream",
          "name": "stderr",
          "text": [
            "\n",
            "\n",
            "Epoch 4:   0%|          | 0/14742 [00:00<?, ?it/s]\u001b[A\u001b[A\n",
            "                                                  \u001b[A"
          ]
        },
        {
          "output_type": "stream",
          "name": "stdout",
          "text": [
            "Iteration 46683 - Batch 2457/14742 - Train loss: 0.7316968569045537, Train acc: 0.6667005695687551\n",
            "Iteration 49140 - Batch 4914/14742 - Train loss: 0.7323863991825166, Train acc: 0.6659556205493388\n",
            "Iteration 51597 - Batch 7371/14742 - Train loss: 0.733124584610444, Train acc: 0.6658916338849702\n",
            "Iteration 54054 - Batch 9828/14742 - Train loss: 0.7332209118270767, Train acc: 0.6660154262895513\n",
            "Iteration 56511 - Batch 12285/14742 - Train loss: 0.733098110677403, Train acc: 0.6660515525801726\n",
            "Val loss: 0.741742730140686, Val acc: 0.6612505935422602\n"
          ]
        },
        {
          "output_type": "stream",
          "name": "stderr",
          "text": [
            "\n",
            "Epoch 5:   0%|          | 0/14742 [00:00<?, ?it/s]\u001b[A\n",
            "\n",
            "                                                  \u001b[A\u001b[A"
          ]
        },
        {
          "output_type": "stream",
          "name": "stdout",
          "text": [
            "Iteration 61425 - Batch 2457/14742 - Train loss: 0.7102487501426864, Train acc: 0.676852369812856\n",
            "Iteration 63882 - Batch 4914/14742 - Train loss: 0.7134634965494472, Train acc: 0.6750635808748728\n",
            "Iteration 66339 - Batch 7371/14742 - Train loss: 0.7132256425193516, Train acc: 0.675524789744981\n",
            "Iteration 68796 - Batch 9828/14742 - Train loss: 0.7143230954262256, Train acc: 0.674710995523451\n",
            "Iteration 71253 - Batch 12285/14742 - Train loss: 0.7146399852998789, Train acc: 0.6747123250040696\n",
            "Val loss: 0.734946608543396, Val acc: 0.6650888334916113\n"
          ]
        },
        {
          "output_type": "stream",
          "name": "stderr",
          "text": [
            "\n",
            "\n",
            "Epoch 6:   0%|          | 0/14742 [00:00<?, ?it/s]\u001b[A\u001b[A\n",
            "                                                  \u001b[A"
          ]
        },
        {
          "output_type": "stream",
          "name": "stdout",
          "text": [
            "Iteration 76167 - Batch 2457/14742 - Train loss: 0.7006953192057893, Train acc: 0.684092758340114\n",
            "Iteration 78624 - Batch 4914/14742 - Train loss: 0.6980883468507144, Train acc: 0.6841429298067141\n",
            "Iteration 81081 - Batch 7371/14742 - Train loss: 0.6982337770800647, Train acc: 0.6841596581660336\n",
            "Iteration 83538 - Batch 9828/14742 - Train loss: 0.6992362664612812, Train acc: 0.6832889281717367\n",
            "Iteration 85995 - Batch 12285/14742 - Train loss: 0.7002408441829892, Train acc: 0.683014457512616\n",
            "Val loss: 0.7287994027137756, Val acc: 0.6698619025007914\n"
          ]
        },
        {
          "output_type": "stream",
          "name": "stderr",
          "text": [
            "\n",
            "Epoch 7:   0%|          | 0/14742 [00:00<?, ?it/s]\u001b[A\n",
            "\n",
            "                                                  \u001b[A\u001b[A"
          ]
        },
        {
          "output_type": "stream",
          "name": "stdout",
          "text": [
            "Iteration 90909 - Batch 2457/14742 - Train loss: 0.676472528253366, Train acc: 0.69519172091131\n",
            "Iteration 93366 - Batch 4914/14742 - Train loss: 0.6789760943104267, Train acc: 0.6935497202441505\n",
            "Iteration 95823 - Batch 7371/14742 - Train loss: 0.6828156666010538, Train acc: 0.6921014480466631\n",
            "Iteration 98280 - Batch 9828/14742 - Train loss: 0.6849137655333228, Train acc: 0.6906205488859497\n",
            "Iteration 100737 - Batch 12285/14742 - Train loss: 0.6863215383267763, Train acc: 0.6897586684030604\n",
            "Val loss: 0.7324417233467102, Val acc: 0.6684571858182969\n"
          ]
        },
        {
          "output_type": "stream",
          "name": "stderr",
          "text": [
            "\n",
            "\n",
            "Epoch 8:   0%|          | 0/14742 [00:00<?, ?it/s]\u001b[A\u001b[A\n",
            "                                                  \u001b[A"
          ]
        },
        {
          "output_type": "stream",
          "name": "stdout",
          "text": [
            "Iteration 105651 - Batch 2457/14742 - Train loss: 0.6616806895922994, Train acc: 0.7033029902359642\n",
            "Iteration 108108 - Batch 4914/14742 - Train loss: 0.6648764382301245, Train acc: 0.700559511698881\n",
            "Iteration 110565 - Batch 7371/14742 - Train loss: 0.6676683034778159, Train acc: 0.6992145109875203\n",
            "Iteration 113022 - Batch 9828/14742 - Train loss: 0.6706954788362426, Train acc: 0.6979203759283752\n",
            "Iteration 115479 - Batch 12285/14742 - Train loss: 0.672442250112631, Train acc: 0.6970293932117858\n",
            "Val loss: 0.735092282295227, Val acc: 0.6692287907565685\n"
          ]
        },
        {
          "output_type": "stream",
          "name": "stderr",
          "text": [
            "\n",
            "Epoch 9:   0%|          | 0/14742 [00:00<?, ?it/s]\u001b[A\n",
            "\n",
            "                                                  \u001b[A\u001b[A"
          ]
        },
        {
          "output_type": "stream",
          "name": "stdout",
          "text": [
            "Iteration 120393 - Batch 2457/14742 - Train loss: 0.650590365766218, Train acc: 0.7094817941415785\n",
            "Iteration 122850 - Batch 4914/14742 - Train loss: 0.6527966293168093, Train acc: 0.7075279755849441\n",
            "Iteration 125307 - Batch 7371/14742 - Train loss: 0.6554746852173989, Train acc: 0.7057701437873033\n",
            "Iteration 127764 - Batch 9828/14742 - Train loss: 0.6577036988002648, Train acc: 0.7049451877098383\n",
            "Iteration 130221 - Batch 12285/14742 - Train loss: 0.6601632958041249, Train acc: 0.7035930123718053\n",
            "Val loss: 0.7399675250053406, Val acc: 0.6706978078505856\n"
          ]
        },
        {
          "output_type": "stream",
          "name": "stderr",
          "text": [
            "\n",
            "\n",
            "Epoch 10:   0%|          | 0/14742 [00:00<?, ?it/s]\u001b[A\u001b[A\n",
            "                                                  \u001b[A"
          ]
        },
        {
          "output_type": "stream",
          "name": "stdout",
          "text": [
            "Iteration 135135 - Batch 2457/14742 - Train loss: 0.6370926967377193, Train acc: 0.7152092656631408\n",
            "Iteration 137592 - Batch 4914/14742 - Train loss: 0.6396931951674173, Train acc: 0.713317014242116\n",
            "Iteration 140049 - Batch 7371/14742 - Train loss: 0.6415720128586159, Train acc: 0.7124550664677157\n",
            "Iteration 142506 - Batch 9828/14742 - Train loss: 0.6442369790640692, Train acc: 0.7112069513683996\n",
            "Iteration 144963 - Batch 12285/14742 - Train loss: 0.6470654830979385, Train acc: 0.7098323294807097\n"
          ]
        },
        {
          "output_type": "stream",
          "name": "stderr",
          "text": [
            "\n",
            "\n",
            "                                                   \u001b[A\u001b[A"
          ]
        },
        {
          "output_type": "stream",
          "name": "stdout",
          "text": [
            "Val loss: 0.735844612121582, Val acc: 0.6693277144666033\n",
            "\n",
            "Tiempo total de entrenamiento: 736.2054 [s]\n"
          ]
        },
        {
          "output_type": "display_data",
          "data": {
            "text/plain": [
              "<Figure size 1300x500 with 2 Axes>"
            ],
            "image/png": "[encoded data removed]"
          },
          "metadata": {}
        }
      ]
    },
    {
      "cell_type": "code",
      "source": [
        "torch.save(model.state_dict(), 'modelo_entrenado_3c.pth')"
      ],
      "metadata": {
        "id": "PxSMXKJlnDp5"
      },
      "execution_count": 22,
      "outputs": []
    },
    {
      "cell_type": "markdown",
      "source": [
        "## Resultados"
      ],
      "metadata": {
        "id": "ew4nC8AK0vi3"
      }
    },
    {
      "cell_type": "code",
      "source": [
        "#Función para obtener las predicciones usando un modelo y una dataLoader\n",
        "def get_all_preds(model, loader):\n",
        "  all_preds = torch.tensor([])\n",
        "  all_label = torch.tensor([])\n",
        "  for batch in loader:\n",
        "    images, labels = batch\n",
        "\n",
        "    preds = model(images)\n",
        "    all_preds = torch.cat((all_preds, preds) ,dim=0)\n",
        "    all_label = torch.cat((all_label, labels) ,dim=0)\n",
        "\n",
        "  return all_preds, all_label"
      ],
      "metadata": {
        "id": "cE2A72Ymo8-j"
      },
      "execution_count": 23,
      "outputs": []
    },
    {
      "cell_type": "code",
      "source": [
        "# Función  que plotea matriz de confusion\n",
        "def plot_confusion_matrix(cm, classes,\n",
        "                          normalize=False,\n",
        "                          title='Confusion matrix',\n",
        "                          cmap=plt.cm.Blues):\n",
        "    \"\"\"\n",
        "    This function prints and plots the confusion matrix.\n",
        "    Normalization can be applied by setting `normalize=True`.\n",
        "    \"\"\"\n",
        "    if normalize:\n",
        "        cm = cm.astype('float') / cm.sum(axis=1)[:, np.newaxis]\n",
        "        print(\"Normalized confusion matrix\")\n",
        "    else:\n",
        "        print('Confusion matrix, without normalization')\n",
        "\n",
        "    print(cm)\n",
        "\n",
        "    plt.imshow(cm, interpolation='nearest', cmap=cmap)\n",
        "    plt.title(title)\n",
        "    plt.colorbar()\n",
        "    tick_marks = np.arange(len(classes))\n",
        "    plt.xticks(tick_marks, classes, rotation=45)\n",
        "    plt.yticks(tick_marks, classes)\n",
        "\n",
        "    fmt = '.2f' if normalize else 'd'\n",
        "    thresh = cm.max() / 2.\n",
        "    for i, j in itertools.product(range(cm.shape[0]), range(cm.shape[1])):\n",
        "        plt.text(j, i, format(cm[i, j], fmt),\n",
        "                 horizontalalignment=\"center\",\n",
        "                 color=\"white\" if cm[i, j] > thresh else \"black\")\n",
        "\n",
        "    plt.tight_layout()\n",
        "    plt.ylabel('True label')\n",
        "    plt.xlabel('Predicted label')"
      ],
      "metadata": {
        "id": "06ruKRUCo_Li"
      },
      "execution_count": 24,
      "outputs": []
    },
    {
      "cell_type": "code",
      "source": [
        "test_loader = torch.utils.data.DataLoader(test_ds, batch_size=len(test_ds), shuffle=False, pin_memory=True)\n",
        "\n",
        "pred_test, label_test = get_all_preds(model, test_loader)"
      ],
      "metadata": {
        "id": "oPdIfb5r0yth"
      },
      "execution_count": 25,
      "outputs": []
    },
    {
      "cell_type": "code",
      "source": [
        "cm = confusion_matrix(label_test, pred_test.argmax(dim=1))\n",
        "classes = ('glaciar', 'cloud', 'other')\n",
        "plt.figure(figsize=(10,10))\n",
        "plot_confusion_matrix(cm, classes, normalize=True)"
      ],
      "metadata": {
        "colab": {
          "base_uri": "https://localhost:8080/",
          "height": 1000
        },
        "id": "mWiD0AJA16dF",
        "outputId": "c08702f2-0ce6-4677-fdf7-9d627df3b328"
      },
      "execution_count": 32,
      "outputs": [
        {
          "output_type": "stream",
          "name": "stdout",
          "text": [
            "Normalized confusion matrix\n",
            "[[0.78180623 0.10667413 0.11151964]\n",
            " [0.18296399 0.72677721 0.0902588 ]\n",
            " [0.34526018 0.24775125 0.40698857]]\n"
          ]
        },
        {
          "output_type": "display_data",
          "data": {
            "text/plain": [
              "<Figure size 1000x1000 with 2 Axes>"
            ],
            "image/png": "[encoded data removed]"
          },
          "metadata": {}
        }
      ]
    }
  ]
}